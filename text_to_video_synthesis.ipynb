{
  "cells": [
    {
      "cell_type": "markdown",
      "metadata": {
        "id": "view-in-github"
      },
      "source": [
        "[![Open In Colab](https://colab.research.google.com/assets/colab-badge.svg)](https://colab.research.google.com/github/camenduru/text-to-video-synthesis-colab/blob/main/text_to_video_synthesis.ipynb)"
      ]
    },
    {
      "cell_type": "code",
      "execution_count": null,
      "metadata": {
        "id": "n2ibl97e2yM4"
      },
      "outputs": [],
      "source": [
        "!git clone https://huggingface.co/camenduru/text-to-video-synthesis /root/.cache/modelscope\n",
        "!pip install -q git+https://github.com/camenduru/modelscope open_clip_torch pytorch_lightning\n",
        "\n",
        "import os\n",
        "os._exit(00)"
      ]
    },
    {
      "cell_type": "code",
      "execution_count": null,
      "metadata": {
        "id": "cqo7g4p2_V78"
      },
      "outputs": [],
      "source": [
        "import torch, random, gc\n",
        "from IPython.display import HTML\n",
        "from base64 import b64encode\n",
        "from modelscope.pipelines import pipeline\n",
        "from modelscope.outputs import OutputKeys\n",
        "from IPython.display import clear_output \n",
        "\n",
        "if 'pipe' in globals():  \n",
        "  del pipe\n",
        "with torch.no_grad():\n",
        "  torch.cuda.empty_cache()\n",
        "gc.collect()\n",
        "\n",
        "torch.manual_seed(random.randint(0, 2147483647))\n",
        "pipe = pipeline('text-to-video-synthesis', 'damo/text-to-video-synthesis')\n",
        "test_text = {\n",
        "        'text': 'A panda eating bamboo on a rock.',\n",
        "    }\n",
        "output_video_path = pipe(test_text,)[OutputKeys.OUTPUT_VIDEO]\n",
        "clear_output()\n",
        "print('output_video_path:', output_video_path)\n",
        "mp4 = open(output_video_path,'rb').read()\n",
        "data_url = \"data:video/mp4;base64,\" + b64encode(mp4).decode()\n",
        "HTML(\"\"\"\n",
        "<video width=400 controls>\n",
        "      <source src=\"%s\" type=\"video/mp4\">\n",
        "</video>\n",
        "\"\"\" % data_url)"
      ]
    }
  ],
  "metadata": {
    "accelerator": "GPU",
    "colab": {
      "provenance": []
    },
    "gpuClass": "standard",
    "kernelspec": {
      "display_name": "Python 3",
      "name": "python3"
    },
    "language_info": {
      "name": "python"
    }
  },
  "nbformat": 4,
  "nbformat_minor": 0
}
