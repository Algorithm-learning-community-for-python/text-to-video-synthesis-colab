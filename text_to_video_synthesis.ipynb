{
  "cells": [
    {
      "cell_type": "markdown",
      "metadata": {
        "id": "view-in-github"
      },
      "source": [
        "[![Open In Colab](https://colab.research.google.com/assets/colab-badge.svg)](https://colab.research.google.com/github/camenduru/text-to-video-synthesis-colab/blob/main/text_to_video_synthesis.ipynb)"
      ]
    },
    {
      "cell_type": "code",
      "execution_count": null,
      "metadata": {
        "id": "n2ibl97e2yM4"
      },
      "outputs": [],
      "source": [
        "!apt -y install -qq aria2\n",
        "!pip install -q git+https://github.com/camenduru/modelscope open_clip_torch pytorch_lightning \n",
        "\n",
        "!aria2c --console-log-level=error -c -x 16 -s 16 -k 1M https://huggingface.co/camenduru/text-to-video-synthesis/resolve/main/hub/damo/text-to-video-synthesis/VQGAN_autoencoder.pth -d /content/models -o VQGAN_autoencoder.pth\n",
        "!aria2c --console-log-level=error -c -x 16 -s 16 -k 1M https://huggingface.co/camenduru/text-to-video-synthesis/resolve/main/hub/damo/text-to-video-synthesis/open_clip_pytorch_model.bin -d /content/models -o open_clip_pytorch_model.bin\n",
        "!aria2c --console-log-level=error -c -x 16 -s 16 -k 1M https://huggingface.co/camenduru/text-to-video-synthesis/resolve/main/hub/damo/text-to-video-synthesis/text2video_pytorch_model.pth -d /content/models -o text2video_pytorch_model.pth\n",
        "!aria2c --console-log-level=error -c -x 16 -s 16 -k 1M https://huggingface.co/camenduru/text-to-video-synthesis/raw/main/hub/damo/text-to-video-synthesis/configuration.json -d /content/models -o configuration.json\n",
        "\n",
        "import os\n",
        "os._exit(00)"
      ]
    },
    {
      "cell_type": "code",
      "execution_count": null,
      "metadata": {
        "id": "cqo7g4p2_V78"
      },
      "outputs": [],
      "source": [
        "import torch, random, gc\n",
        "from IPython.display import HTML\n",
        "from base64 import b64encode\n",
        "from modelscope.pipelines import pipeline\n",
        "from modelscope.outputs import OutputKeys\n",
        "from IPython.display import clear_output \n",
        "\n",
        "if 'pipe' in globals():  \n",
        "  del pipe\n",
        "with torch.no_grad():\n",
        "  torch.cuda.empty_cache()\n",
        "gc.collect()\n",
        "\n",
        "torch.manual_seed(random.randint(0, 2147483647))\n",
        "pipe = pipeline('text-to-video-synthesis', '/content/models')\n",
        "test_text = {\n",
        "        'text': 'A panda eating bamboo on a rock.',\n",
        "    }\n",
        "output_video_path = pipe(test_text,)[OutputKeys.OUTPUT_VIDEO]\n",
        "\n",
        "import os, sys\n",
        "!mkdir /content/videos\n",
        "!cp /tmp/*.mp4 /content/videos"
      ]
    }
  ],
  "metadata": {
    "accelerator": "GPU",
    "colab": {
      "provenance": []
    },
    "gpuClass": "standard",
    "kernelspec": {
      "display_name": "Python 3",
      "name": "python3"
    },
    "language_info": {
      "name": "python"
    }
  },
  "nbformat": 4,
  "nbformat_minor": 0
}
