{
  "nbformat": 4,
  "nbformat_minor": 0,
  "metadata": {
    "colab": {
      "provenance": []
    },
    "kernelspec": {
      "name": "python3",
      "display_name": "Python 3"
    },
    "language_info": {
      "name": "python"
    },
    "accelerator": "GPU",
    "gpuClass": "standard"
  },
  "cells": [
    {
      "cell_type": "markdown",
      "metadata": {
        "id": "view-in-github"
      },
      "source": [
        "[![Open In Colab](https://colab.research.google.com/assets/colab-badge.svg)](https://colab.research.google.com/github/camenduru/text-to-video-synthesis-colab/blob/main/text_to_video_synthesis.ipynb)"
      ]
    },
    {
      "cell_type": "code",
      "source": [
        "!pip install \"modelscope[multi-modal]\" -f https://modelscope.oss-cn-beijing.aliyuncs.com/releases/repo.html\n",
        "!pip install open_clip_torch"
      ],
      "metadata": {
        "id": "n2ibl97e2yM4"
      },
      "execution_count": null,
      "outputs": []
    },
    {
      "cell_type": "code",
      "source": [
        "from modelscope.pipelines import pipeline\n",
        "from modelscope.outputs import OutputKeys\n",
        "\n",
        "p = pipeline('text-to-video-synthesis', 'damo/text-to-video-synthesis')\n",
        "test_text = {\n",
        "        'text': 'A panda eating bamboo on a rock.',\n",
        "    }\n",
        "output_video_path = p(test_text,)[OutputKeys.OUTPUT_VIDEO]\n",
        "print('output_video_path:', output_video_path)"
      ],
      "metadata": {
        "id": "cqo7g4p2_V78"
      },
      "execution_count": null,
      "outputs": []
    }
  ]
}
